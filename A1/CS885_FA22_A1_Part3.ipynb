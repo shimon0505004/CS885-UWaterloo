{
 "cells": [
  {
   "cell_type": "markdown",
   "source": [
    "---\n",
    "\n",
    "# Part III: Training Deep Q-Network to Solve Cartpole Problem from Open AI Gym.\n",
    "\n",
    "---\n"
   ],
   "metadata": {
    "id": "s35VTZMnVVcp"
   }
  },
  {
   "cell_type": "code",
   "execution_count": 1,
   "metadata": {
    "colab": {
     "base_uri": "https://localhost:8080/"
    },
    "id": "tDRhn_KIz27p",
    "outputId": "f4229f11-f129-48af-800f-4cae4842ac88"
   },
   "outputs": [
    {
     "output_type": "stream",
     "name": "stdout",
     "text": [
      "Looking in indexes: https://pypi.org/simple, https://us-python.pkg.dev/colab-wheels/public/simple/\n",
      "Requirement already satisfied: gym==0.26 in /usr/local/lib/python3.7/dist-packages (0.26.0)\n",
      "Requirement already satisfied: gym-notices>=0.0.4 in /usr/local/lib/python3.7/dist-packages (from gym==0.26) (0.0.8)\n",
      "Requirement already satisfied: cloudpickle>=1.2.0 in /usr/local/lib/python3.7/dist-packages (from gym==0.26) (1.5.0)\n",
      "Requirement already satisfied: numpy>=1.18.0 in /usr/local/lib/python3.7/dist-packages (from gym==0.26) (1.21.6)\n",
      "Requirement already satisfied: importlib-metadata>=4.8.0 in /usr/local/lib/python3.7/dist-packages (from gym==0.26) (4.12.0)\n",
      "Requirement already satisfied: typing-extensions>=3.6.4 in /usr/local/lib/python3.7/dist-packages (from importlib-metadata>=4.8.0->gym==0.26) (4.1.1)\n",
      "Requirement already satisfied: zipp>=0.5 in /usr/local/lib/python3.7/dist-packages (from importlib-metadata>=4.8.0->gym==0.26) (3.8.1)\n"
     ]
    }
   ],
   "source": [
    "!pip install gym==0.26"
   ]
  },
  {
   "cell_type": "code",
   "execution_count": 2,
   "metadata": {
    "id": "ndZ3E0TTuCW_"
   },
   "outputs": [],
   "source": [
    "import collections\n",
    "import numpy as np\n",
    "import random\n",
    "import torch\n",
    "\n",
    "# Replay buffer\n",
    "class ReplayBuffer:\n",
    "    \n",
    "    # create replay buffer of size N\n",
    "    def __init__(self, N):\n",
    "        self.buf = collections.deque(maxlen = N)\n",
    "    \n",
    "    # add: add a transition (s, a, r, s2, d)\n",
    "    def add(self, s, a, r, s2, d):\n",
    "        self.buf.append((s, a, r, s2, d))\n",
    "    \n",
    "    # sample: return minibatch of size n\n",
    "    def sample(self, n, t):\n",
    "        minibatch = random.sample(self.buf, n)\n",
    "        S, A, R, S2, D = [], [], [], [], []\n",
    "        \n",
    "        for mb in minibatch:\n",
    "            s, a, r, s2, d = mb\n",
    "            S += [s]; A += [a]; R += [r]; S2 += [s2]; D += [d]\n",
    "\n",
    "        return t.f(S), t.l(A), t.f(R), t.f(S2), t.i(D)"
   ]
  },
  {
   "cell_type": "code",
   "execution_count": 3,
   "metadata": {
    "id": "Cu18H11iuJEK"
   },
   "outputs": [],
   "source": [
    "import pickle\n",
    "\n",
    "def save(var, filename):\n",
    "    with open(filename, 'wb') as handle:\n",
    "        pickle.dump(var, handle, protocol=pickle.HIGHEST_PROTOCOL)\n",
    "\n",
    "def load(filename):\n",
    "    with open(filename, 'rb') as handle:\n",
    "        b = pickle.load(handle)\n",
    "        return b"
   ]
  },
  {
   "cell_type": "code",
   "execution_count": 4,
   "metadata": {
    "id": "Yq13e69vuMyJ"
   },
   "outputs": [],
   "source": [
    "import gym\n",
    "import numpy as np\n",
    "import random\n",
    "from copy import deepcopy\n",
    "\n",
    "# Play an episode according to a given policy\n",
    "# env: environment\n",
    "# policy: function(env, state)\n",
    "# render: whether to render the episode or not (default - False)\n",
    "def play_episode(env, policy, render = False):\n",
    "    states, actions, rewards = [], [], []\n",
    "    states.append(env.reset()[0]) ####\n",
    "    done = False\n",
    "    if render: env.render()\n",
    "    while not done:\n",
    "        action = policy(env, states[-1])\n",
    "        actions.append(action)\n",
    "        obs, reward, done, trunc, info = env.step(action) ####\n",
    "        done = done | trunc ####\n",
    "        if render: env.render()\n",
    "        states.append(obs)\n",
    "        rewards.append(reward)\n",
    "    return states, actions, rewards\n",
    "\n",
    "# Play an episode according to a given policy and add \n",
    "# to a replay buffer\n",
    "# env: environment\n",
    "# policy: function(env, state)\n",
    "def play_episode_rb(env, policy, buf):\n",
    "    states, actions, rewards = [], [], []\n",
    "    states.append(env.reset()[0]) ####\n",
    "    done = False\n",
    "    while not done:\n",
    "        action = policy(env, states[-1])\n",
    "        actions.append(action)\n",
    "        obs, reward, done, trunc, info = env.step(action) ####\n",
    "        done = done | trunc ####\n",
    "        buf.add(states[-1], action, reward, obs, done)\n",
    "        states.append(obs)\n",
    "        rewards.append(reward)\n",
    "    return states, actions, rewards\n"
   ]
  },
  {
   "cell_type": "code",
   "execution_count": 5,
   "metadata": {
    "id": "-O76y8u5uOvB"
   },
   "outputs": [],
   "source": [
    "import torch\n",
    "import numpy as np\n",
    "import random\n",
    "import os\n",
    "\n",
    "# call seed functions\n",
    "# seednum: seeding number (default - 1)\n",
    "def seed(seednum = 1):\n",
    "    random.seed(seednum)\n",
    "    np.random.seed(seednum)\n",
    "    torch.manual_seed(seednum)\n",
    "    torch.cuda.manual_seed(seednum)\n",
    "    os.environ['PYTHONHASHSEED'] = str(seednum)\n",
    "    torch.backends.cudnn.deterministic = True"
   ]
  },
  {
   "cell_type": "code",
   "execution_count": 6,
   "metadata": {
    "id": "Fu9N0OcFuPt4"
   },
   "outputs": [],
   "source": [
    "import torch\n",
    "\n",
    "class TorchHelper:\n",
    "    \n",
    "    def __init__(self):\n",
    "        if torch.cuda.is_available():\n",
    "            self.device = torch.device(\"cuda\")\n",
    "        else:\n",
    "            self.device = torch.device(\"cpu\")\n",
    "    \n",
    "    def f(self, x):\n",
    "        return torch.tensor(x).float().to(self.device)\n",
    "    \n",
    "    def i(self, x):\n",
    "        return torch.tensor(x).int().to(self.device)\n",
    "    \n",
    "    def l(self, x):\n",
    "        return torch.tensor(x).long().to(self.device)"
   ]
  },
  {
   "cell_type": "code",
   "execution_count": 7,
   "metadata": {
    "id": "Yp5NTA79u00g"
   },
   "outputs": [],
   "source": [
    "import gym\n",
    "import numpy as np\n",
    "import torch\n",
    "import tqdm\n",
    "import matplotlib.pyplot as plt\n",
    "import warnings\n",
    "warnings.filterwarnings(\"ignore\")\n",
    "\n",
    "# Deep Q Learning\n",
    "# Slide 14\n",
    "# cs.uwaterloo.ca/~ppoupart/teaching/cs885-spring20/slides/cs885-lecture4b.pdf\n",
    "\n",
    "# Constants\n",
    "SEEDS = [1,2,3,4,5]\n",
    "t = TorchHelper()\n",
    "DEVICE = t.device\n",
    "OBS_N = 4               # State space size\n",
    "ACT_N = 2               # Action space size\n",
    "MINIBATCH_SIZE = 10     # How many examples to sample per train step\n",
    "GAMMA = 0.99            # Discount factor in episodic reward objective\n",
    "LEARNING_RATE = 5e-4    # Learning rate for Adam optimizer\n",
    "TRAIN_AFTER_EPISODES = 10   # Just collect episodes for these many episodes\n",
    "TRAIN_EPOCHS = 5        # Train for these many epochs every time\n",
    "BUFSIZE = 10000         # Replay buffer size\n",
    "EPISODES = 300          # Total number of episodes to learn over\n",
    "TEST_EPISODES = 1       # Test episodes after every train episode\n",
    "HIDDEN = 512            # Hidden nodes\n",
    "TARGET_UPDATE_FREQ = 10 # Target network update frequency\n",
    "STARTING_EPSILON = 1.0  # Starting epsilon\n",
    "STEPS_MAX = 10000       # Gradually reduce epsilon over these many steps\n",
    "EPSILON_END = 0.01      # At the end, keep epsilon at this value\n",
    "\n",
    "# Global variables\n",
    "EPSILON = STARTING_EPSILON\n",
    "Q = None\n",
    "\n",
    "# Create environment\n",
    "# Create replay buffer\n",
    "# Create network for Q(s, a)\n",
    "# Create target network\n",
    "# Create optimizer\n",
    "def create_everything(seedVal):\n",
    "\n",
    "    seed(seedVal)\n",
    "    env = gym.make(\"CartPole-v0\")\n",
    "    env.reset(seed=seedVal) ####\n",
    "    test_env = gym.make(\"CartPole-v0\")\n",
    "    test_env.reset(seed=10+seedVal) ####\n",
    "    buf = ReplayBuffer(BUFSIZE)\n",
    "    Q = torch.nn.Sequential(\n",
    "        torch.nn.Linear(OBS_N, HIDDEN), torch.nn.ReLU(),\n",
    "        torch.nn.Linear(HIDDEN, HIDDEN), torch.nn.ReLU(),\n",
    "        torch.nn.Linear(HIDDEN, ACT_N)\n",
    "    ).to(DEVICE)\n",
    "    Qt = torch.nn.Sequential(\n",
    "        torch.nn.Linear(OBS_N, HIDDEN), torch.nn.ReLU(),\n",
    "        torch.nn.Linear(HIDDEN, HIDDEN), torch.nn.ReLU(),\n",
    "        torch.nn.Linear(HIDDEN, ACT_N)\n",
    "    ).to(DEVICE)\n",
    "    OPT = torch.optim.Adam(Q.parameters(), lr = LEARNING_RATE)\n",
    "    return env, test_env, buf, Q, Qt, OPT\n",
    "\n",
    "# Update a target network using a source network\n",
    "def update(target, source):\n",
    "    for tp, p in zip(target.parameters(), source.parameters()):\n",
    "        tp.data.copy_(p.data)\n",
    "\n",
    "# Create epsilon-greedy policy\n",
    "def policy(env, obs):\n",
    "\n",
    "    global EPSILON, Q\n",
    "\n",
    "    obs = t.f(obs).view(-1, OBS_N)  # Convert to torch tensor\n",
    "    \n",
    "    # With probability EPSILON, choose a random action\n",
    "    # Rest of the time, choose argmax_a Q(s, a) \n",
    "    if np.random.rand() < EPSILON:\n",
    "        action = np.random.randint(ACT_N)\n",
    "    else:\n",
    "        qvalues = Q(obs)\n",
    "        action = torch.argmax(qvalues).item()\n",
    "    \n",
    "    # Epsilon update rule: Keep reducing a small amount over\n",
    "    # STEPS_MAX number of steps, and at the end, fix to EPSILON_END\n",
    "    EPSILON = max(EPSILON_END, EPSILON - (1.0 / STEPS_MAX))\n",
    "    # print(EPSILON)\n",
    "\n",
    "    return action\n",
    "\n",
    "\n",
    "# Update networks\n",
    "def update_networks(epi, buf, Q, Qt, OPT):\n",
    "    \n",
    "    # Sample a minibatch (s, a, r, s', d)\n",
    "    # Each variable is a vector of corresponding values\n",
    "    S, A, R, S2, D = buf.sample(MINIBATCH_SIZE, t)\n",
    "    \n",
    "    # Get Q(s, a) for every (s, a) in the minibatch\n",
    "    qvalues = Q(S).gather(1, A.view(-1, 1)).squeeze()\n",
    "\n",
    "    # Get max_a' Qt(s', a') for every (s') in the minibatch\n",
    "    q2values = torch.max(Qt(S2), dim = 1).values\n",
    "\n",
    "    # If done, \n",
    "    #   y = r(s, a) + GAMMA * max_a' Q(s', a') * (0)\n",
    "    # If not done,\n",
    "    #   y = r(s, a) + GAMMA * max_a' Q(s', a') * (1)       \n",
    "    targets = R + GAMMA * q2values * (1-D)\n",
    "\n",
    "    # Detach y since it is the target. Target values should\n",
    "    # be kept fixed.\n",
    "    loss = torch.nn.MSELoss()(targets.detach(), qvalues)\n",
    "\n",
    "    # Backpropagation\n",
    "    OPT.zero_grad()\n",
    "    loss.backward()\n",
    "    OPT.step()\n",
    "\n",
    "    # Update target network every few steps\n",
    "    if epi % TARGET_UPDATE_FREQ == 0:\n",
    "        update(Qt, Q)\n",
    "\n",
    "    return loss.item()\n",
    "\n",
    "# Play episodes\n",
    "# Training function\n",
    "def train(seed):\n",
    "\n",
    "    global EPSILON, Q\n",
    "    print(\"Seed=%d\" % seed)\n",
    "\n",
    "    # Create environment, buffer, Q, Q target, optimizer\n",
    "    env, test_env, buf, Q, Qt, OPT = create_everything(seed)\n",
    "\n",
    "    # epsilon greedy exploration\n",
    "    EPSILON = STARTING_EPSILON\n",
    "\n",
    "    testRs = []\n",
    "    last25testRs = []\n",
    "    print(\"Training:\")\n",
    "    pbar = tqdm.trange(EPISODES)\n",
    "    for epi in pbar:\n",
    "\n",
    "        # Play an episode and log episodic reward\n",
    "        S, A, R = play_episode_rb(env, policy, buf)\n",
    "        \n",
    "        # Train after collecting sufficient experience\n",
    "        if epi >= TRAIN_AFTER_EPISODES:\n",
    "\n",
    "            # Train for TRAIN_EPOCHS\n",
    "            for tri in range(TRAIN_EPOCHS): \n",
    "                update_networks(epi, buf, Q, Qt, OPT)\n",
    "\n",
    "        # Evaluate for TEST_EPISODES number of episodes\n",
    "        Rews = []\n",
    "        for epj in range(TEST_EPISODES):\n",
    "            S, A, R = play_episode(test_env, policy, render = False)\n",
    "            Rews += [sum(R)]\n",
    "        testRs += [sum(Rews)/TEST_EPISODES]\n",
    "\n",
    "        # Update progress bar\n",
    "        last25testRs += [sum(testRs[-25:])/len(testRs[-25:])]\n",
    "        pbar.set_description(\"R25(%g)\" % (last25testRs[-1]))\n",
    "\n",
    "    # Close progress bar, environment\n",
    "    pbar.close()\n",
    "    print(\"Training finished!\")\n",
    "    env.close()\n",
    "\n",
    "    return last25testRs\n",
    "\n",
    "# Plot mean curve and (mean-std, mean+std) curve with some transparency\n",
    "# Clip the curves to be between 0, 200\n",
    "def plot_arrays(vars, color, label):\n",
    "    mean = np.mean(vars, axis=0)\n",
    "    std = np.std(vars, axis=0)\n",
    "    plt.plot(range(len(mean)), mean, color=color, label=label)\n",
    "    plt.fill_between(range(len(mean)), np.maximum(mean-std, 0), np.minimum(mean+std,200), color=color, alpha=0.3)\n"
   ]
  },
  {
   "cell_type": "markdown",
   "source": [
    "---\n",
    "\n",
    "## Part III.1: Explaining impact of Updating Target Network every 1, 10, 50 and 100 episode(s)\n",
    "\n",
    "---\n",
    "\n",
    "The following code snipped generates 4 curves corresponding to updating the target network ever 1, 10, 50 and 100 episodes. Sample batch is fixed at size 10. We create the average curve which is the average of 5 runs corresponding to 5 random seeds. \n",
    "\n",
    "---"
   ],
   "metadata": {
    "id": "Y-u61CfyV2oE"
   }
  },
  {
   "cell_type": "code",
   "execution_count": 8,
   "metadata": {
    "colab": {
     "base_uri": "https://localhost:8080/",
     "height": 1000
    },
    "id": "62T1v4RL2du6",
    "outputId": "e1325f5b-2dab-4859-ad61-e9ba254f39b9"
   },
   "outputs": [
    {
     "output_type": "stream",
     "name": "stdout",
     "text": [
      "Seed=1\n",
      "Training:\n"
     ]
    },
    {
     "output_type": "stream",
     "name": "stderr",
     "text": [
      "R25(98.2): 100%|██████████| 300/300 [00:27<00:00, 10.90it/s]\n"
     ]
    },
    {
     "output_type": "stream",
     "name": "stdout",
     "text": [
      "Training finished!\n",
      "Seed=2\n",
      "Training:\n"
     ]
    },
    {
     "output_type": "stream",
     "name": "stderr",
     "text": [
      "R25(83.28): 100%|██████████| 300/300 [00:20<00:00, 14.86it/s]\n"
     ]
    },
    {
     "output_type": "stream",
     "name": "stdout",
     "text": [
      "Training finished!\n",
      "Seed=3\n",
      "Training:\n"
     ]
    },
    {
     "output_type": "stream",
     "name": "stderr",
     "text": [
      "R25(183.68): 100%|██████████| 300/300 [00:21<00:00, 14.18it/s]\n"
     ]
    },
    {
     "output_type": "stream",
     "name": "stdout",
     "text": [
      "Training finished!\n",
      "Seed=4\n",
      "Training:\n"
     ]
    },
    {
     "output_type": "stream",
     "name": "stderr",
     "text": [
      "R25(125.8): 100%|██████████| 300/300 [00:21<00:00, 13.89it/s]\n"
     ]
    },
    {
     "output_type": "stream",
     "name": "stdout",
     "text": [
      "Training finished!\n",
      "Seed=5\n",
      "Training:\n"
     ]
    },
    {
     "output_type": "stream",
     "name": "stderr",
     "text": [
      "R25(183.12): 100%|██████████| 300/300 [00:22<00:00, 13.32it/s]\n"
     ]
    },
    {
     "output_type": "stream",
     "name": "stdout",
     "text": [
      "Training finished!\n",
      "Seed=1\n",
      "Training:\n"
     ]
    },
    {
     "output_type": "stream",
     "name": "stderr",
     "text": [
      "R25(156.72): 100%|██████████| 300/300 [00:25<00:00, 11.98it/s]\n"
     ]
    },
    {
     "output_type": "stream",
     "name": "stdout",
     "text": [
      "Training finished!\n",
      "Seed=2\n",
      "Training:\n"
     ]
    },
    {
     "output_type": "stream",
     "name": "stderr",
     "text": [
      "R25(156.72): 100%|██████████| 300/300 [00:24<00:00, 12.05it/s]\n"
     ]
    },
    {
     "output_type": "stream",
     "name": "stdout",
     "text": [
      "Training finished!\n",
      "Seed=3\n",
      "Training:\n"
     ]
    },
    {
     "output_type": "stream",
     "name": "stderr",
     "text": [
      "R25(153.84): 100%|██████████| 300/300 [00:23<00:00, 12.77it/s]\n"
     ]
    },
    {
     "output_type": "stream",
     "name": "stdout",
     "text": [
      "Training finished!\n",
      "Seed=4\n",
      "Training:\n"
     ]
    },
    {
     "output_type": "stream",
     "name": "stderr",
     "text": [
      "R25(184.52): 100%|██████████| 300/300 [00:26<00:00, 11.13it/s]\n"
     ]
    },
    {
     "output_type": "stream",
     "name": "stdout",
     "text": [
      "Training finished!\n",
      "Seed=5\n",
      "Training:\n"
     ]
    },
    {
     "output_type": "stream",
     "name": "stderr",
     "text": [
      "R25(122.04): 100%|██████████| 300/300 [00:24<00:00, 12.43it/s]\n"
     ]
    },
    {
     "output_type": "stream",
     "name": "stdout",
     "text": [
      "Training finished!\n",
      "Seed=1\n",
      "Training:\n"
     ]
    },
    {
     "output_type": "stream",
     "name": "stderr",
     "text": [
      "R25(116.28): 100%|██████████| 300/300 [00:16<00:00, 18.59it/s]\n"
     ]
    },
    {
     "output_type": "stream",
     "name": "stdout",
     "text": [
      "Training finished!\n",
      "Seed=2\n",
      "Training:\n"
     ]
    },
    {
     "output_type": "stream",
     "name": "stderr",
     "text": [
      "R25(110.24): 100%|██████████| 300/300 [00:17<00:00, 17.23it/s]\n"
     ]
    },
    {
     "output_type": "stream",
     "name": "stdout",
     "text": [
      "Training finished!\n",
      "Seed=3\n",
      "Training:\n"
     ]
    },
    {
     "output_type": "stream",
     "name": "stderr",
     "text": [
      "R25(167.32): 100%|██████████| 300/300 [00:20<00:00, 14.47it/s]\n"
     ]
    },
    {
     "output_type": "stream",
     "name": "stdout",
     "text": [
      "Training finished!\n",
      "Seed=4\n",
      "Training:\n"
     ]
    },
    {
     "output_type": "stream",
     "name": "stderr",
     "text": [
      "R25(110.44): 100%|██████████| 300/300 [00:18<00:00, 16.07it/s]\n"
     ]
    },
    {
     "output_type": "stream",
     "name": "stdout",
     "text": [
      "Training finished!\n",
      "Seed=5\n",
      "Training:\n"
     ]
    },
    {
     "output_type": "stream",
     "name": "stderr",
     "text": [
      "R25(131.04): 100%|██████████| 300/300 [00:17<00:00, 16.92it/s]\n"
     ]
    },
    {
     "output_type": "stream",
     "name": "stdout",
     "text": [
      "Training finished!\n",
      "Seed=1\n",
      "Training:\n"
     ]
    },
    {
     "output_type": "stream",
     "name": "stderr",
     "text": [
      "R25(9.48): 100%|██████████| 300/300 [00:14<00:00, 21.08it/s]\n"
     ]
    },
    {
     "output_type": "stream",
     "name": "stdout",
     "text": [
      "Training finished!\n",
      "Seed=2\n",
      "Training:\n"
     ]
    },
    {
     "output_type": "stream",
     "name": "stderr",
     "text": [
      "R25(10.24): 100%|██████████| 300/300 [00:14<00:00, 21.09it/s]\n"
     ]
    },
    {
     "output_type": "stream",
     "name": "stdout",
     "text": [
      "Training finished!\n",
      "Seed=3\n",
      "Training:\n"
     ]
    },
    {
     "output_type": "stream",
     "name": "stderr",
     "text": [
      "R25(11.76): 100%|██████████| 300/300 [00:14<00:00, 21.11it/s]\n"
     ]
    },
    {
     "output_type": "stream",
     "name": "stdout",
     "text": [
      "Training finished!\n",
      "Seed=4\n",
      "Training:\n"
     ]
    },
    {
     "output_type": "stream",
     "name": "stderr",
     "text": [
      "R25(11.12): 100%|██████████| 300/300 [00:14<00:00, 20.95it/s]\n"
     ]
    },
    {
     "output_type": "stream",
     "name": "stdout",
     "text": [
      "Training finished!\n",
      "Seed=5\n",
      "Training:\n"
     ]
    },
    {
     "output_type": "stream",
     "name": "stderr",
     "text": [
      "R25(10.76): 100%|██████████| 300/300 [00:14<00:00, 20.80it/s]\n"
     ]
    },
    {
     "output_type": "stream",
     "name": "stdout",
     "text": [
      "Training finished!\n"
     ]
    },
    {
     "output_type": "display_data",
     "data": {
      "text/plain": [
       "<Figure size 432x288 with 1 Axes>"
      ],
      "image/png": "[encoded data removed]"
     },
     "metadata": {
      "needs_background": "light"
     }
    },
    {
     "output_type": "display_data",
     "data": {
      "text/plain": [
       "<Figure size 432x288 with 0 Axes>"
      ]
     },
     "metadata": {}
    }
   ],
   "source": [
    "# PART III.1: Target Network Update Frequency\n",
    "\n",
    "PREV_TARGET_UPDATE_FREQ = TARGET_UPDATE_FREQ\n",
    "colors = ['red','blue','green','black']\n",
    "targetUpdateFrequencies = [1,10,50,100]\n",
    "\n",
    "for i in range(len(targetUpdateFrequencies)):\n",
    "    TARGET_UPDATE_FREQ = targetUpdateFrequencies[i]  # Target network update frequency\n",
    "\n",
    "    # Train for different seeds\n",
    "    curves = []\n",
    "    for seedVal in SEEDS:\n",
    "        curves += [train(seedVal)]\n",
    "\n",
    "    label = \"Episode : \" +  str(TARGET_UPDATE_FREQ)\n",
    "\n",
    "    \"\"\"\n",
    "    # Plot the curve for the given seeds\n",
    "    plot_arrays(curves, colors[i], label)\n",
    "    \"\"\"\n",
    "\n",
    "    # To reduce stochasticity in the results, reporting curves that are the average of 5 runs\n",
    "    # corresponding to 5 random seeds.\n",
    "    mean = np.mean(curves, axis=0)\n",
    "    plt.plot(range(len(mean)), mean, color=colors[i], label=label)\n",
    "\n",
    "\n",
    "plt.legend(loc='best')\n",
    "plt.title(\"PartIII DQN Graph 1: Target Network Update Frequency\")\n",
    "plt.xlabel(\"Episode #\")\n",
    "plt.ylabel(\"Average Cumulative Discounted Reward of last 25 Episode\")\n",
    "\n",
    "plt.savefig('Part3_Prob1.png', bbox_inches='tight')\n",
    "plt.show()\n",
    "plt.close()\n",
    "plt.cla()\n",
    "plt.clf()\n",
    "\n",
    "TARGET_UPDATE_FREQ = PREV_TARGET_UPDATE_FREQ"
   ]
  },
  {
   "cell_type": "markdown",
   "source": [
    "---\n",
    "\n",
    "### Graph 1: Target network update frequency\n",
    "\n",
    "---\n",
    "\n",
    "The above graph shows the impact of *target network* update every 1, 10, 50 and 100 episodes. We know that *target network* periodic updates can mitigate divergence of Non-linear Gradianet Q-learning. \n",
    "\n",
    "We know that in DQN, the learning process uses two NN - a main network (*update network*) and a *target network*. Every N episodes, the weight from the *update network* is copied to the *target network*. When N=1, the weight from the *update network* is copied to the target network every episode (meaning, target network update follows *update network* every episode). And when N > 1 (say 10), the *target network* weights are updated less frequently than the *update network* weight (For example, target network weight is updated after every 10 episodes with the update network weights). \n",
    "\n",
    "From the above graph, we see that convergence improves when update frequency is increased from 1 to 10, but after crossing a certain threshold - increasing update frequency results in degrading convergence performance. **This means that there is an optimal value for the frequency of updating target network and beyond that point the performance starts degrading. **\n",
    "\n",
    "In value iteration, we froze the current value for all states, and used it as a target to iteratively improve the value of all states based on a known transition function. Until all state values were updated - the target state values were kept fixed. Once all state values were updated, we updated the target with these new values to repeat the process descibed above. However, in reality the transition function is not known. So to approximate the transition function, we use minibatched samples to approximate all states - and fix the target network weights to update the *Update Network* weights for all of these samples in the minibatch. When all the samples have been exhausted from this minibatch - we transfer the *Update Network* weights to *Target Network* weights, and repeat the same process. This way, the target network in DQN is similar to the target state values in value iteration. \n",
    "\n",
    "---"
   ],
   "metadata": {
    "id": "eTE0Ul-FWw5n"
   }
  },
  {
   "cell_type": "code",
   "execution_count": 9,
   "metadata": {
    "id": "KHmTJItX220J",
    "colab": {
     "base_uri": "https://localhost:8080/",
     "height": 1000
    },
    "outputId": "f223c277-3f4b-4e2e-b6a5-48b5c57f3196"
   },
   "outputs": [
    {
     "output_type": "stream",
     "name": "stdout",
     "text": [
      "Seed=1\n",
      "Training:\n"
     ]
    },
    {
     "output_type": "stream",
     "name": "stderr",
     "text": [
      "R25(52.76): 100%|██████████| 300/300 [00:15<00:00, 19.86it/s]\n"
     ]
    },
    {
     "output_type": "stream",
     "name": "stdout",
     "text": [
      "Training finished!\n",
      "Seed=2\n",
      "Training:\n"
     ]
    },
    {
     "output_type": "stream",
     "name": "stderr",
     "text": [
      "R25(44.84): 100%|██████████| 300/300 [00:14<00:00, 20.16it/s]\n"
     ]
    },
    {
     "output_type": "stream",
     "name": "stdout",
     "text": [
      "Training finished!\n",
      "Seed=3\n",
      "Training:\n"
     ]
    },
    {
     "output_type": "stream",
     "name": "stderr",
     "text": [
      "R25(32.28): 100%|██████████| 300/300 [00:14<00:00, 21.19it/s]\n"
     ]
    },
    {
     "output_type": "stream",
     "name": "stdout",
     "text": [
      "Training finished!\n",
      "Seed=4\n",
      "Training:\n"
     ]
    },
    {
     "output_type": "stream",
     "name": "stderr",
     "text": [
      "R25(34.2): 100%|██████████| 300/300 [00:15<00:00, 19.31it/s]\n"
     ]
    },
    {
     "output_type": "stream",
     "name": "stdout",
     "text": [
      "Training finished!\n",
      "Seed=5\n",
      "Training:\n"
     ]
    },
    {
     "output_type": "stream",
     "name": "stderr",
     "text": [
      "R25(35.36): 100%|██████████| 300/300 [00:13<00:00, 21.67it/s]\n"
     ]
    },
    {
     "output_type": "stream",
     "name": "stdout",
     "text": [
      "Training finished!\n",
      "Seed=1\n",
      "Training:\n"
     ]
    },
    {
     "output_type": "stream",
     "name": "stderr",
     "text": [
      "R25(156.72): 100%|██████████| 300/300 [00:24<00:00, 12.02it/s]\n"
     ]
    },
    {
     "output_type": "stream",
     "name": "stdout",
     "text": [
      "Training finished!\n",
      "Seed=2\n",
      "Training:\n"
     ]
    },
    {
     "output_type": "stream",
     "name": "stderr",
     "text": [
      "R25(156.72): 100%|██████████| 300/300 [00:24<00:00, 12.15it/s]\n"
     ]
    },
    {
     "output_type": "stream",
     "name": "stdout",
     "text": [
      "Training finished!\n",
      "Seed=3\n",
      "Training:\n"
     ]
    },
    {
     "output_type": "stream",
     "name": "stderr",
     "text": [
      "R25(153.84): 100%|██████████| 300/300 [00:25<00:00, 11.70it/s]\n"
     ]
    },
    {
     "output_type": "stream",
     "name": "stdout",
     "text": [
      "Training finished!\n",
      "Seed=4\n",
      "Training:\n"
     ]
    },
    {
     "output_type": "stream",
     "name": "stderr",
     "text": [
      "R25(184.52): 100%|██████████| 300/300 [00:27<00:00, 11.03it/s]\n"
     ]
    },
    {
     "output_type": "stream",
     "name": "stdout",
     "text": [
      "Training finished!\n",
      "Seed=5\n",
      "Training:\n"
     ]
    },
    {
     "output_type": "stream",
     "name": "stderr",
     "text": [
      "R25(122.04): 100%|██████████| 300/300 [00:24<00:00, 12.21it/s]\n"
     ]
    },
    {
     "output_type": "stream",
     "name": "stdout",
     "text": [
      "Training finished!\n",
      "Seed=1\n",
      "Training:\n"
     ]
    },
    {
     "output_type": "stream",
     "name": "stderr",
     "text": [
      "R25(161.24): 100%|██████████| 300/300 [00:32<00:00,  9.16it/s]\n"
     ]
    },
    {
     "output_type": "stream",
     "name": "stdout",
     "text": [
      "Training finished!\n",
      "Seed=2\n",
      "Training:\n"
     ]
    },
    {
     "output_type": "stream",
     "name": "stderr",
     "text": [
      "R25(194.84): 100%|██████████| 300/300 [00:33<00:00,  8.84it/s]\n"
     ]
    },
    {
     "output_type": "stream",
     "name": "stdout",
     "text": [
      "Training finished!\n",
      "Seed=3\n",
      "Training:\n"
     ]
    },
    {
     "output_type": "stream",
     "name": "stderr",
     "text": [
      "R25(192.12): 100%|██████████| 300/300 [00:33<00:00,  8.98it/s]\n"
     ]
    },
    {
     "output_type": "stream",
     "name": "stdout",
     "text": [
      "Training finished!\n",
      "Seed=4\n",
      "Training:\n"
     ]
    },
    {
     "output_type": "stream",
     "name": "stderr",
     "text": [
      "R25(192.52): 100%|██████████| 300/300 [00:34<00:00,  8.64it/s]\n"
     ]
    },
    {
     "output_type": "stream",
     "name": "stdout",
     "text": [
      "Training finished!\n",
      "Seed=5\n",
      "Training:\n"
     ]
    },
    {
     "output_type": "stream",
     "name": "stderr",
     "text": [
      "R25(177.16): 100%|██████████| 300/300 [00:33<00:00,  8.88it/s]\n"
     ]
    },
    {
     "output_type": "stream",
     "name": "stdout",
     "text": [
      "Training finished!\n",
      "Seed=1\n",
      "Training:\n"
     ]
    },
    {
     "output_type": "stream",
     "name": "stderr",
     "text": [
      "R25(168.96): 100%|██████████| 300/300 [00:40<00:00,  7.44it/s]\n"
     ]
    },
    {
     "output_type": "stream",
     "name": "stdout",
     "text": [
      "Training finished!\n",
      "Seed=2\n",
      "Training:\n"
     ]
    },
    {
     "output_type": "stream",
     "name": "stderr",
     "text": [
      "R25(158.88): 100%|██████████| 300/300 [00:38<00:00,  7.81it/s]\n"
     ]
    },
    {
     "output_type": "stream",
     "name": "stdout",
     "text": [
      "Training finished!\n",
      "Seed=3\n",
      "Training:\n"
     ]
    },
    {
     "output_type": "stream",
     "name": "stderr",
     "text": [
      "R25(177.4): 100%|██████████| 300/300 [00:39<00:00,  7.58it/s]\n"
     ]
    },
    {
     "output_type": "stream",
     "name": "stdout",
     "text": [
      "Training finished!\n",
      "Seed=4\n",
      "Training:\n"
     ]
    },
    {
     "output_type": "stream",
     "name": "stderr",
     "text": [
      "R25(167.08): 100%|██████████| 300/300 [00:39<00:00,  7.65it/s]\n"
     ]
    },
    {
     "output_type": "stream",
     "name": "stdout",
     "text": [
      "Training finished!\n",
      "Seed=5\n",
      "Training:\n"
     ]
    },
    {
     "output_type": "stream",
     "name": "stderr",
     "text": [
      "R25(174.24): 100%|██████████| 300/300 [00:38<00:00,  7.79it/s]\n"
     ]
    },
    {
     "output_type": "stream",
     "name": "stdout",
     "text": [
      "Training finished!\n"
     ]
    },
    {
     "output_type": "display_data",
     "data": {
      "text/plain": [
       "<Figure size 432x288 with 1 Axes>"
      ],
      "image/png": "[encoded data removed]"
     },
     "metadata": {
      "needs_background": "light"
     }
    },
    {
     "output_type": "display_data",
     "data": {
      "text/plain": [
       "<Figure size 432x288 with 0 Axes>"
      ]
     },
     "metadata": {}
    }
   ],
   "source": [
    "# PART III.2: Mini-batch size\n",
    "\n",
    "PREV_MINIBATCH_SIZE = MINIBATCH_SIZE\n",
    "colors = ['red', 'blue', 'green', 'black']\n",
    "targetMinibatchSize = [1, 10, 50, 100]\n",
    "\n",
    "for i in range(len(targetUpdateFrequencies)):\n",
    "    MINIBATCH_SIZE = targetMinibatchSize[i]  # Target network update frequency\n",
    "\n",
    "    # Train for different seeds\n",
    "    curves = []\n",
    "    for seedVal in SEEDS:\n",
    "        curves += [train(seedVal)]\n",
    "\n",
    "    label = \"minibatch Size: \" + str(MINIBATCH_SIZE)\n",
    "\n",
    "    \"\"\"\n",
    "    # Plot the curve for the given seeds\n",
    "    plot_arrays(curves, colors[i], label)\n",
    "    \"\"\"\n",
    "\n",
    "    # To reduce stochasticity in the results, reporting curves that are the average of 5 runs\n",
    "    # corresponding to 5 random seeds.\n",
    "    mean = np.mean(curves, axis=0)\n",
    "    plt.plot(range(len(mean)), mean, color=colors[i], label=label)\n",
    "\n",
    "plt.legend(loc='best')\n",
    "plt.title(\"PartIII DQN Graph 2: Mini-batch size\")\n",
    "plt.xlabel(\"Episode #\")\n",
    "plt.ylabel(\"Average Cumulative Discounted Reward of last 25 Episode\")\n",
    "\n",
    "plt.savefig('Part3_Prob2.png', bbox_inches='tight')\n",
    "plt.show()\n",
    "plt.close()\n",
    "plt.cla()\n",
    "plt.clf()\n",
    "\n",
    "MINIBATCH_SIZE = PREV_MINIBATCH_SIZE"
   ]
  },
  {
   "cell_type": "markdown",
   "source": [
    "---\n",
    "\n",
    "### Graph 2: Mini Batch Size\n",
    "\n",
    "---\n",
    "\n",
    "The above graph shows the impact of sampling minibatches of 1, 10 (default), 50 and 100 experience(s) from the replay buffer. Experience replay buffer is used to mitigate divergence of Non-linear Gradianet Q-learning. Gradients are computed with respect to the minibatches. With minibatches, gradients are improved in many locations compared to only one locations. \n",
    "\n",
    "When batch size is too small, the model requires more interactions with environment to converge. When the batch size is large, we see that it requires less interaction with environment to converge. \n",
    "\n",
    "When minibatch size is 1, it does a online learning - so the learning is more unstable. but as batch size in the replay buffer is increased, more historical state-action state-reward tuples are used - resulting in more stable learning That is why we see that when minibatch size is 1, it does not converge even after 300 episode, but with increasing minibatch size, the reward converges quickly to a reward threshold after less number of episodes. In practice, minibatch size is increased as much as possible to improve the convergence. \n",
    "\n",
    "---"
   ],
   "metadata": {
    "id": "qEiflKvLazwZ"
   }
  },
  {
   "cell_type": "code",
   "execution_count": 10,
   "metadata": {
    "id": "JhySpHCu2-yp",
    "colab": {
     "base_uri": "https://localhost:8080/",
     "height": 1000
    },
    "outputId": "e327f2c4-5f10-4c9f-8ef2-cb17262845d4"
   },
   "outputs": [
    {
     "output_type": "stream",
     "name": "stdout",
     "text": [
      "Seed=1\n",
      "Training:\n"
     ]
    },
    {
     "output_type": "stream",
     "name": "stderr",
     "text": [
      "R25(45.36): 100%|██████████| 300/300 [00:05<00:00, 50.80it/s]\n"
     ]
    },
    {
     "output_type": "stream",
     "name": "stdout",
     "text": [
      "Training finished!\n",
      "Seed=2\n",
      "Training:\n"
     ]
    },
    {
     "output_type": "stream",
     "name": "stderr",
     "text": [
      "R25(12.72): 100%|██████████| 300/300 [00:05<00:00, 55.64it/s]\n"
     ]
    },
    {
     "output_type": "stream",
     "name": "stdout",
     "text": [
      "Training finished!\n",
      "Seed=3\n",
      "Training:\n"
     ]
    },
    {
     "output_type": "stream",
     "name": "stderr",
     "text": [
      "R25(53.24): 100%|██████████| 300/300 [00:07<00:00, 42.00it/s]\n"
     ]
    },
    {
     "output_type": "stream",
     "name": "stdout",
     "text": [
      "Training finished!\n",
      "Seed=4\n",
      "Training:\n"
     ]
    },
    {
     "output_type": "stream",
     "name": "stderr",
     "text": [
      "R25(37.56): 100%|██████████| 300/300 [00:07<00:00, 39.66it/s]\n"
     ]
    },
    {
     "output_type": "stream",
     "name": "stdout",
     "text": [
      "Training finished!\n",
      "Seed=5\n",
      "Training:\n"
     ]
    },
    {
     "output_type": "stream",
     "name": "stderr",
     "text": [
      "R25(56.8): 100%|██████████| 300/300 [00:06<00:00, 44.30it/s]\n"
     ]
    },
    {
     "output_type": "stream",
     "name": "stdout",
     "text": [
      "Training finished!\n",
      "Seed=1\n",
      "Training:\n"
     ]
    },
    {
     "output_type": "stream",
     "name": "stderr",
     "text": [
      "R25(156.72): 100%|██████████| 300/300 [00:24<00:00, 12.07it/s]\n"
     ]
    },
    {
     "output_type": "stream",
     "name": "stdout",
     "text": [
      "Training finished!\n",
      "Seed=2\n",
      "Training:\n"
     ]
    },
    {
     "output_type": "stream",
     "name": "stderr",
     "text": [
      "R25(156.72): 100%|██████████| 300/300 [00:24<00:00, 12.23it/s]\n"
     ]
    },
    {
     "output_type": "stream",
     "name": "stdout",
     "text": [
      "Training finished!\n",
      "Seed=3\n",
      "Training:\n"
     ]
    },
    {
     "output_type": "stream",
     "name": "stderr",
     "text": [
      "R25(153.84): 100%|██████████| 300/300 [00:23<00:00, 12.93it/s]\n"
     ]
    },
    {
     "output_type": "stream",
     "name": "stdout",
     "text": [
      "Training finished!\n",
      "Seed=4\n",
      "Training:\n"
     ]
    },
    {
     "output_type": "stream",
     "name": "stderr",
     "text": [
      "R25(184.52): 100%|██████████| 300/300 [00:26<00:00, 11.24it/s]\n"
     ]
    },
    {
     "output_type": "stream",
     "name": "stdout",
     "text": [
      "Training finished!\n",
      "Seed=5\n",
      "Training:\n"
     ]
    },
    {
     "output_type": "stream",
     "name": "stderr",
     "text": [
      "R25(122.04): 100%|██████████| 300/300 [00:24<00:00, 12.46it/s]\n"
     ]
    },
    {
     "output_type": "stream",
     "name": "stdout",
     "text": [
      "Training finished!\n",
      "Seed=1\n",
      "Training:\n"
     ]
    },
    {
     "output_type": "stream",
     "name": "stderr",
     "text": [
      "R25(155.52): 100%|██████████| 300/300 [00:40<00:00,  7.34it/s]\n"
     ]
    },
    {
     "output_type": "stream",
     "name": "stdout",
     "text": [
      "Training finished!\n",
      "Seed=2\n",
      "Training:\n"
     ]
    },
    {
     "output_type": "stream",
     "name": "stderr",
     "text": [
      "R25(183.4): 100%|██████████| 300/300 [00:42<00:00,  7.14it/s]\n"
     ]
    },
    {
     "output_type": "stream",
     "name": "stdout",
     "text": [
      "Training finished!\n",
      "Seed=3\n",
      "Training:\n"
     ]
    },
    {
     "output_type": "stream",
     "name": "stderr",
     "text": [
      "R25(161.88): 100%|██████████| 300/300 [00:41<00:00,  7.28it/s]\n"
     ]
    },
    {
     "output_type": "stream",
     "name": "stdout",
     "text": [
      "Training finished!\n",
      "Seed=4\n",
      "Training:\n"
     ]
    },
    {
     "output_type": "stream",
     "name": "stderr",
     "text": [
      "R25(169.84): 100%|██████████| 300/300 [00:41<00:00,  7.25it/s]\n"
     ]
    },
    {
     "output_type": "stream",
     "name": "stdout",
     "text": [
      "Training finished!\n",
      "Seed=5\n",
      "Training:\n"
     ]
    },
    {
     "output_type": "stream",
     "name": "stderr",
     "text": [
      "R25(160.04): 100%|██████████| 300/300 [00:39<00:00,  7.67it/s]\n"
     ]
    },
    {
     "output_type": "stream",
     "name": "stdout",
     "text": [
      "Training finished!\n",
      "Seed=1\n",
      "Training:\n"
     ]
    },
    {
     "output_type": "stream",
     "name": "stderr",
     "text": [
      "R25(184.76): 100%|██████████| 300/300 [02:15<00:00,  2.21it/s]\n"
     ]
    },
    {
     "output_type": "stream",
     "name": "stdout",
     "text": [
      "Training finished!\n",
      "Seed=2\n",
      "Training:\n"
     ]
    },
    {
     "output_type": "stream",
     "name": "stderr",
     "text": [
      "R25(179.64): 100%|██████████| 300/300 [02:11<00:00,  2.29it/s]\n"
     ]
    },
    {
     "output_type": "stream",
     "name": "stdout",
     "text": [
      "Training finished!\n",
      "Seed=3\n",
      "Training:\n"
     ]
    },
    {
     "output_type": "stream",
     "name": "stderr",
     "text": [
      "R25(185.36): 100%|██████████| 300/300 [02:15<00:00,  2.21it/s]\n"
     ]
    },
    {
     "output_type": "stream",
     "name": "stdout",
     "text": [
      "Training finished!\n",
      "Seed=4\n",
      "Training:\n"
     ]
    },
    {
     "output_type": "stream",
     "name": "stderr",
     "text": [
      "R25(178.68): 100%|██████████| 300/300 [02:11<00:00,  2.29it/s]\n"
     ]
    },
    {
     "output_type": "stream",
     "name": "stdout",
     "text": [
      "Training finished!\n",
      "Seed=5\n",
      "Training:\n"
     ]
    },
    {
     "output_type": "stream",
     "name": "stderr",
     "text": [
      "R25(192.16): 100%|██████████| 300/300 [02:11<00:00,  2.27it/s]\n"
     ]
    },
    {
     "output_type": "stream",
     "name": "stdout",
     "text": [
      "Training finished!\n"
     ]
    },
    {
     "output_type": "display_data",
     "data": {
      "text/plain": [
       "<Figure size 432x288 with 1 Axes>"
      ],
      "image/png": "[encoded data removed]"
     },
     "metadata": {
      "needs_background": "light"
     }
    },
    {
     "output_type": "display_data",
     "data": {
      "text/plain": [
       "<Figure size 432x288 with 0 Axes>"
      ]
     },
     "metadata": {}
    }
   ],
   "source": [
    "# PART III.3: Training Epoch\n",
    "\n",
    "PREV_TRAIN_EPOCHS = TRAIN_EPOCHS\n",
    "colors = ['red', 'blue', 'green', 'black']\n",
    "epochs = [1, 5, 10, 50]\n",
    "\n",
    "for i in range(len(epochs)):\n",
    "    TRAIN_EPOCHS = epochs[i]  # Target network update frequency\n",
    "\n",
    "    # Train for different seeds\n",
    "    curves = []\n",
    "    for seedVal in SEEDS:\n",
    "        curves += [train(seedVal)]\n",
    "\n",
    "    label = \"Epochs: \" + str(TRAIN_EPOCHS)\n",
    "\n",
    "    \"\"\"\n",
    "    # Plot the curve for the given seeds\n",
    "    plot_arrays(curves, colors[i], label)\n",
    "    \"\"\"\n",
    "\n",
    "    # To reduce stochasticity in the results, reporting curves that are the average of 5 runs\n",
    "    # corresponding to 5 random seeds.\n",
    "    mean = np.mean(curves, axis=0)\n",
    "    plt.plot(range(len(mean)), mean, color=colors[i], label=label)\n",
    "\n",
    "plt.legend(loc='best')\n",
    "plt.title(\"PartIII DQN Graph 3: Epochs\")\n",
    "plt.xlabel(\"Episode #\")\n",
    "plt.ylabel(\"Average Cumulative Discounted Reward of last 25 Episode\")\n",
    "\n",
    "plt.savefig('Part3_Prob3.png', bbox_inches='tight')\n",
    "plt.show()\n",
    "plt.close()\n",
    "plt.cla()\n",
    "plt.clf()\n",
    "\n",
    "TRAIN_EPOCHS = PREV_TRAIN_EPOCHS"
   ]
  },
  {
   "cell_type": "markdown",
   "source": [
    "---\n",
    "\n",
    "### Graph 3: Buffer training Epochs\n",
    "\n",
    "---\n",
    "\n",
    "The above graph shows the impact of increasing buffer training epochs in sampling minibatches of size 10 from the replay buffer. \n",
    "\n",
    "Similar to increasing the minibatch sizes, increasing the number of epochs also improves the results. When only one epoch is used - underfitting of the data occurs. However, we see that as number of epochs are increasing - the convergence is happenning earlier as the Neural network model in DQN is more fitted to the data. \n",
    "\n",
    "---"
   ],
   "metadata": {
    "id": "2FZrEWZngeVq"
   }
  }
 ],
 "metadata": {
  "accelerator": "TPU",
  "colab": {
   "collapsed_sections": [],
   "provenance": []
  },
  "kernelspec": {
   "display_name": "Python 3",
   "name": "python3"
  },
  "language_info": {
   "name": "python"
  }
 },
 "nbformat": 4,
 "nbformat_minor": 0
}